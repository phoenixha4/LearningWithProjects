{
 "cells": [
  {
   "cell_type": "markdown",
   "id": "854259cf",
   "metadata": {
    "papermill": {
     "duration": 0.006106,
     "end_time": "2023-02-20T15:43:08.092567",
     "exception": false,
     "start_time": "2023-02-20T15:43:08.086461",
     "status": "completed"
    },
    "tags": []
   },
   "source": [
    "# Import libraries and dataset"
   ]
  },
  {
   "cell_type": "code",
   "execution_count": 1,
   "id": "f69d9667",
   "metadata": {
    "_cell_guid": "b1076dfc-b9ad-4769-8c92-a6c4dae69d19",
    "_uuid": "8f2839f25d086af736a60e9eeb907d3b93b6e0e5",
    "execution": {
     "iopub.execute_input": "2023-02-20T15:43:08.105568Z",
     "iopub.status.busy": "2023-02-20T15:43:08.104437Z",
     "iopub.status.idle": "2023-02-20T15:43:08.114112Z",
     "shell.execute_reply": "2023-02-20T15:43:08.112993Z"
    },
    "papermill": {
     "duration": 0.018143,
     "end_time": "2023-02-20T15:43:08.115997",
     "exception": false,
     "start_time": "2023-02-20T15:43:08.097854",
     "status": "completed"
    },
    "tags": []
   },
   "outputs": [],
   "source": [
    "import numpy as np \n",
    "import pandas as pd "
   ]
  },
  {
   "cell_type": "code",
   "execution_count": 2,
   "id": "328942e5",
   "metadata": {
    "execution": {
     "iopub.execute_input": "2023-02-20T15:43:08.128474Z",
     "iopub.status.busy": "2023-02-20T15:43:08.127419Z",
     "iopub.status.idle": "2023-02-20T15:43:08.174843Z",
     "shell.execute_reply": "2023-02-20T15:43:08.173961Z"
    },
    "papermill": {
     "duration": 0.05563,
     "end_time": "2023-02-20T15:43:08.176886",
     "exception": false,
     "start_time": "2023-02-20T15:43:08.121256",
     "status": "completed"
    },
    "tags": []
   },
   "outputs": [
    {
     "data": {
      "text/html": [
       "<div>\n",
       "<style scoped>\n",
       "    .dataframe tbody tr th:only-of-type {\n",
       "        vertical-align: middle;\n",
       "    }\n",
       "\n",
       "    .dataframe tbody tr th {\n",
       "        vertical-align: top;\n",
       "    }\n",
       "\n",
       "    .dataframe thead th {\n",
       "        text-align: right;\n",
       "    }\n",
       "</style>\n",
       "<table border=\"1\" class=\"dataframe\">\n",
       "  <thead>\n",
       "    <tr style=\"text-align: right;\">\n",
       "      <th></th>\n",
       "      <th>Loan_ID</th>\n",
       "      <th>Gender</th>\n",
       "      <th>Married</th>\n",
       "      <th>Dependents</th>\n",
       "      <th>Education</th>\n",
       "      <th>Self_Employed</th>\n",
       "      <th>ApplicantIncome</th>\n",
       "      <th>CoapplicantIncome</th>\n",
       "      <th>LoanAmount</th>\n",
       "      <th>Loan_Amount_Term</th>\n",
       "      <th>Credit_History</th>\n",
       "      <th>Property_Area</th>\n",
       "      <th>Loan_Status</th>\n",
       "    </tr>\n",
       "  </thead>\n",
       "  <tbody>\n",
       "    <tr>\n",
       "      <th>0</th>\n",
       "      <td>LP001002</td>\n",
       "      <td>Male</td>\n",
       "      <td>No</td>\n",
       "      <td>0</td>\n",
       "      <td>Graduate</td>\n",
       "      <td>No</td>\n",
       "      <td>5849</td>\n",
       "      <td>0.0</td>\n",
       "      <td>NaN</td>\n",
       "      <td>360.0</td>\n",
       "      <td>1.0</td>\n",
       "      <td>Urban</td>\n",
       "      <td>Y</td>\n",
       "    </tr>\n",
       "    <tr>\n",
       "      <th>1</th>\n",
       "      <td>LP001003</td>\n",
       "      <td>Male</td>\n",
       "      <td>Yes</td>\n",
       "      <td>1</td>\n",
       "      <td>Graduate</td>\n",
       "      <td>No</td>\n",
       "      <td>4583</td>\n",
       "      <td>1508.0</td>\n",
       "      <td>128.0</td>\n",
       "      <td>360.0</td>\n",
       "      <td>1.0</td>\n",
       "      <td>Rural</td>\n",
       "      <td>N</td>\n",
       "    </tr>\n",
       "    <tr>\n",
       "      <th>2</th>\n",
       "      <td>LP001005</td>\n",
       "      <td>Male</td>\n",
       "      <td>Yes</td>\n",
       "      <td>0</td>\n",
       "      <td>Graduate</td>\n",
       "      <td>Yes</td>\n",
       "      <td>3000</td>\n",
       "      <td>0.0</td>\n",
       "      <td>66.0</td>\n",
       "      <td>360.0</td>\n",
       "      <td>1.0</td>\n",
       "      <td>Urban</td>\n",
       "      <td>Y</td>\n",
       "    </tr>\n",
       "    <tr>\n",
       "      <th>3</th>\n",
       "      <td>LP001006</td>\n",
       "      <td>Male</td>\n",
       "      <td>Yes</td>\n",
       "      <td>0</td>\n",
       "      <td>Not Graduate</td>\n",
       "      <td>No</td>\n",
       "      <td>2583</td>\n",
       "      <td>2358.0</td>\n",
       "      <td>120.0</td>\n",
       "      <td>360.0</td>\n",
       "      <td>1.0</td>\n",
       "      <td>Urban</td>\n",
       "      <td>Y</td>\n",
       "    </tr>\n",
       "    <tr>\n",
       "      <th>4</th>\n",
       "      <td>LP001008</td>\n",
       "      <td>Male</td>\n",
       "      <td>No</td>\n",
       "      <td>0</td>\n",
       "      <td>Graduate</td>\n",
       "      <td>No</td>\n",
       "      <td>6000</td>\n",
       "      <td>0.0</td>\n",
       "      <td>141.0</td>\n",
       "      <td>360.0</td>\n",
       "      <td>1.0</td>\n",
       "      <td>Urban</td>\n",
       "      <td>Y</td>\n",
       "    </tr>\n",
       "  </tbody>\n",
       "</table>\n",
       "</div>"
      ],
      "text/plain": [
       "    Loan_ID Gender Married Dependents     Education Self_Employed  \\\n",
       "0  LP001002   Male      No          0      Graduate            No   \n",
       "1  LP001003   Male     Yes          1      Graduate            No   \n",
       "2  LP001005   Male     Yes          0      Graduate           Yes   \n",
       "3  LP001006   Male     Yes          0  Not Graduate            No   \n",
       "4  LP001008   Male      No          0      Graduate            No   \n",
       "\n",
       "   ApplicantIncome  CoapplicantIncome  LoanAmount  Loan_Amount_Term  \\\n",
       "0             5849                0.0         NaN             360.0   \n",
       "1             4583             1508.0       128.0             360.0   \n",
       "2             3000                0.0        66.0             360.0   \n",
       "3             2583             2358.0       120.0             360.0   \n",
       "4             6000                0.0       141.0             360.0   \n",
       "\n",
       "   Credit_History Property_Area Loan_Status  \n",
       "0             1.0         Urban           Y  \n",
       "1             1.0         Rural           N  \n",
       "2             1.0         Urban           Y  \n",
       "3             1.0         Urban           Y  \n",
       "4             1.0         Urban           Y  "
      ]
     },
     "execution_count": 2,
     "metadata": {},
     "output_type": "execute_result"
    }
   ],
   "source": [
    "df=pd.read_csv(\"/kaggle/input/home-loan-approval/loan_sanction_train.csv\")\n",
    "df.head()"
   ]
  },
  {
   "cell_type": "code",
   "execution_count": 3,
   "id": "5d68e0e5",
   "metadata": {
    "execution": {
     "iopub.execute_input": "2023-02-20T15:43:08.190282Z",
     "iopub.status.busy": "2023-02-20T15:43:08.189917Z",
     "iopub.status.idle": "2023-02-20T15:43:08.201059Z",
     "shell.execute_reply": "2023-02-20T15:43:08.199761Z"
    },
    "papermill": {
     "duration": 0.020985,
     "end_time": "2023-02-20T15:43:08.203554",
     "exception": false,
     "start_time": "2023-02-20T15:43:08.182569",
     "status": "completed"
    },
    "tags": []
   },
   "outputs": [
    {
     "data": {
      "text/plain": [
       "array(['0', '1', '2', '3+', nan], dtype=object)"
      ]
     },
     "execution_count": 3,
     "metadata": {},
     "output_type": "execute_result"
    }
   ],
   "source": [
    "df[\"Dependents\"].unique() #EDA "
   ]
  },
  {
   "cell_type": "markdown",
   "id": "6629567b",
   "metadata": {
    "papermill": {
     "duration": 0.006119,
     "end_time": "2023-02-20T15:43:08.215194",
     "exception": false,
     "start_time": "2023-02-20T15:43:08.209075",
     "status": "completed"
    },
    "tags": []
   },
   "source": [
    "# Handling NA values"
   ]
  },
  {
   "cell_type": "code",
   "execution_count": 4,
   "id": "402af478",
   "metadata": {
    "execution": {
     "iopub.execute_input": "2023-02-20T15:43:08.228228Z",
     "iopub.status.busy": "2023-02-20T15:43:08.227861Z",
     "iopub.status.idle": "2023-02-20T15:43:08.238804Z",
     "shell.execute_reply": "2023-02-20T15:43:08.237199Z"
    },
    "papermill": {
     "duration": 0.020466,
     "end_time": "2023-02-20T15:43:08.241319",
     "exception": false,
     "start_time": "2023-02-20T15:43:08.220853",
     "status": "completed"
    },
    "tags": []
   },
   "outputs": [
    {
     "data": {
      "text/plain": [
       "Loan_ID               0\n",
       "Gender               13\n",
       "Married               3\n",
       "Dependents           15\n",
       "Education             0\n",
       "Self_Employed        32\n",
       "ApplicantIncome       0\n",
       "CoapplicantIncome     0\n",
       "LoanAmount           22\n",
       "Loan_Amount_Term     14\n",
       "Credit_History       50\n",
       "Property_Area         0\n",
       "Loan_Status           0\n",
       "dtype: int64"
      ]
     },
     "execution_count": 4,
     "metadata": {},
     "output_type": "execute_result"
    }
   ],
   "source": [
    "df.isna().sum()"
   ]
  },
  {
   "cell_type": "code",
   "execution_count": 5,
   "id": "361fef1f",
   "metadata": {
    "execution": {
     "iopub.execute_input": "2023-02-20T15:43:08.253828Z",
     "iopub.status.busy": "2023-02-20T15:43:08.253450Z",
     "iopub.status.idle": "2023-02-20T15:43:08.264254Z",
     "shell.execute_reply": "2023-02-20T15:43:08.262805Z"
    },
    "papermill": {
     "duration": 0.01938,
     "end_time": "2023-02-20T15:43:08.266269",
     "exception": false,
     "start_time": "2023-02-20T15:43:08.246889",
     "status": "completed"
    },
    "tags": []
   },
   "outputs": [
    {
     "data": {
      "text/plain": [
       "Loan_ID               0\n",
       "Gender               13\n",
       "Married               3\n",
       "Dependents           15\n",
       "Education             0\n",
       "Self_Employed        32\n",
       "ApplicantIncome       0\n",
       "CoapplicantIncome     0\n",
       "LoanAmount           22\n",
       "Loan_Amount_Term     14\n",
       "Credit_History       50\n",
       "Property_Area         0\n",
       "Loan_Status           0\n",
       "dtype: int64"
      ]
     },
     "execution_count": 5,
     "metadata": {},
     "output_type": "execute_result"
    }
   ],
   "source": [
    "df.isna().sum()"
   ]
  },
  {
   "cell_type": "code",
   "execution_count": 6,
   "id": "fc6dab60",
   "metadata": {
    "execution": {
     "iopub.execute_input": "2023-02-20T15:43:08.279789Z",
     "iopub.status.busy": "2023-02-20T15:43:08.279273Z",
     "iopub.status.idle": "2023-02-20T15:43:08.304320Z",
     "shell.execute_reply": "2023-02-20T15:43:08.303209Z"
    },
    "papermill": {
     "duration": 0.034946,
     "end_time": "2023-02-20T15:43:08.306974",
     "exception": false,
     "start_time": "2023-02-20T15:43:08.272028",
     "status": "completed"
    },
    "tags": []
   },
   "outputs": [
    {
     "data": {
      "text/html": [
       "<div>\n",
       "<style scoped>\n",
       "    .dataframe tbody tr th:only-of-type {\n",
       "        vertical-align: middle;\n",
       "    }\n",
       "\n",
       "    .dataframe tbody tr th {\n",
       "        vertical-align: top;\n",
       "    }\n",
       "\n",
       "    .dataframe thead th {\n",
       "        text-align: right;\n",
       "    }\n",
       "</style>\n",
       "<table border=\"1\" class=\"dataframe\">\n",
       "  <thead>\n",
       "    <tr style=\"text-align: right;\">\n",
       "      <th></th>\n",
       "      <th>Loan_ID</th>\n",
       "      <th>Gender</th>\n",
       "      <th>Married</th>\n",
       "      <th>Dependents</th>\n",
       "      <th>Education</th>\n",
       "      <th>Self_Employed</th>\n",
       "      <th>ApplicantIncome</th>\n",
       "      <th>CoapplicantIncome</th>\n",
       "      <th>LoanAmount</th>\n",
       "      <th>Loan_Amount_Term</th>\n",
       "      <th>Credit_History</th>\n",
       "      <th>Property_Area</th>\n",
       "      <th>Loan_Status</th>\n",
       "    </tr>\n",
       "  </thead>\n",
       "  <tbody>\n",
       "    <tr>\n",
       "      <th>1</th>\n",
       "      <td>LP001003</td>\n",
       "      <td>Male</td>\n",
       "      <td>Yes</td>\n",
       "      <td>1</td>\n",
       "      <td>Graduate</td>\n",
       "      <td>No</td>\n",
       "      <td>4583</td>\n",
       "      <td>1508.0</td>\n",
       "      <td>128.0</td>\n",
       "      <td>360.0</td>\n",
       "      <td>1.0</td>\n",
       "      <td>Rural</td>\n",
       "      <td>N</td>\n",
       "    </tr>\n",
       "    <tr>\n",
       "      <th>2</th>\n",
       "      <td>LP001005</td>\n",
       "      <td>Male</td>\n",
       "      <td>Yes</td>\n",
       "      <td>0</td>\n",
       "      <td>Graduate</td>\n",
       "      <td>Yes</td>\n",
       "      <td>3000</td>\n",
       "      <td>0.0</td>\n",
       "      <td>66.0</td>\n",
       "      <td>360.0</td>\n",
       "      <td>1.0</td>\n",
       "      <td>Urban</td>\n",
       "      <td>Y</td>\n",
       "    </tr>\n",
       "    <tr>\n",
       "      <th>3</th>\n",
       "      <td>LP001006</td>\n",
       "      <td>Male</td>\n",
       "      <td>Yes</td>\n",
       "      <td>0</td>\n",
       "      <td>Not Graduate</td>\n",
       "      <td>No</td>\n",
       "      <td>2583</td>\n",
       "      <td>2358.0</td>\n",
       "      <td>120.0</td>\n",
       "      <td>360.0</td>\n",
       "      <td>1.0</td>\n",
       "      <td>Urban</td>\n",
       "      <td>Y</td>\n",
       "    </tr>\n",
       "    <tr>\n",
       "      <th>4</th>\n",
       "      <td>LP001008</td>\n",
       "      <td>Male</td>\n",
       "      <td>No</td>\n",
       "      <td>0</td>\n",
       "      <td>Graduate</td>\n",
       "      <td>No</td>\n",
       "      <td>6000</td>\n",
       "      <td>0.0</td>\n",
       "      <td>141.0</td>\n",
       "      <td>360.0</td>\n",
       "      <td>1.0</td>\n",
       "      <td>Urban</td>\n",
       "      <td>Y</td>\n",
       "    </tr>\n",
       "    <tr>\n",
       "      <th>5</th>\n",
       "      <td>LP001011</td>\n",
       "      <td>Male</td>\n",
       "      <td>Yes</td>\n",
       "      <td>2</td>\n",
       "      <td>Graduate</td>\n",
       "      <td>Yes</td>\n",
       "      <td>5417</td>\n",
       "      <td>4196.0</td>\n",
       "      <td>267.0</td>\n",
       "      <td>360.0</td>\n",
       "      <td>1.0</td>\n",
       "      <td>Urban</td>\n",
       "      <td>Y</td>\n",
       "    </tr>\n",
       "  </tbody>\n",
       "</table>\n",
       "</div>"
      ],
      "text/plain": [
       "    Loan_ID Gender Married Dependents     Education Self_Employed  \\\n",
       "1  LP001003   Male     Yes          1      Graduate            No   \n",
       "2  LP001005   Male     Yes          0      Graduate           Yes   \n",
       "3  LP001006   Male     Yes          0  Not Graduate            No   \n",
       "4  LP001008   Male      No          0      Graduate            No   \n",
       "5  LP001011   Male     Yes          2      Graduate           Yes   \n",
       "\n",
       "   ApplicantIncome  CoapplicantIncome  LoanAmount  Loan_Amount_Term  \\\n",
       "1             4583             1508.0       128.0             360.0   \n",
       "2             3000                0.0        66.0             360.0   \n",
       "3             2583             2358.0       120.0             360.0   \n",
       "4             6000                0.0       141.0             360.0   \n",
       "5             5417             4196.0       267.0             360.0   \n",
       "\n",
       "   Credit_History Property_Area Loan_Status  \n",
       "1             1.0         Rural           N  \n",
       "2             1.0         Urban           Y  \n",
       "3             1.0         Urban           Y  \n",
       "4             1.0         Urban           Y  \n",
       "5             1.0         Urban           Y  "
      ]
     },
     "execution_count": 6,
     "metadata": {},
     "output_type": "execute_result"
    }
   ],
   "source": [
    "# Remove all rows with NA values\n",
    "df=df.dropna()\n",
    "df.head()"
   ]
  },
  {
   "cell_type": "code",
   "execution_count": 7,
   "id": "cbba88bd",
   "metadata": {
    "execution": {
     "iopub.execute_input": "2023-02-20T15:43:08.321215Z",
     "iopub.status.busy": "2023-02-20T15:43:08.320844Z",
     "iopub.status.idle": "2023-02-20T15:43:08.332053Z",
     "shell.execute_reply": "2023-02-20T15:43:08.330424Z"
    },
    "papermill": {
     "duration": 0.021283,
     "end_time": "2023-02-20T15:43:08.334581",
     "exception": false,
     "start_time": "2023-02-20T15:43:08.313298",
     "status": "completed"
    },
    "tags": []
   },
   "outputs": [
    {
     "data": {
      "text/plain": [
       "Loan_ID              0\n",
       "Gender               0\n",
       "Married              0\n",
       "Dependents           0\n",
       "Education            0\n",
       "Self_Employed        0\n",
       "ApplicantIncome      0\n",
       "CoapplicantIncome    0\n",
       "LoanAmount           0\n",
       "Loan_Amount_Term     0\n",
       "Credit_History       0\n",
       "Property_Area        0\n",
       "Loan_Status          0\n",
       "dtype: int64"
      ]
     },
     "execution_count": 7,
     "metadata": {},
     "output_type": "execute_result"
    }
   ],
   "source": [
    "df.isna().sum()"
   ]
  },
  {
   "cell_type": "markdown",
   "id": "75d84006",
   "metadata": {
    "papermill": {
     "duration": 0.005669,
     "end_time": "2023-02-20T15:43:08.347371",
     "exception": false,
     "start_time": "2023-02-20T15:43:08.341702",
     "status": "completed"
    },
    "tags": []
   },
   "source": [
    "# Exploratory Data Analysis"
   ]
  },
  {
   "cell_type": "code",
   "execution_count": 8,
   "id": "482885bc",
   "metadata": {
    "execution": {
     "iopub.execute_input": "2023-02-20T15:43:08.361224Z",
     "iopub.status.busy": "2023-02-20T15:43:08.360876Z",
     "iopub.status.idle": "2023-02-20T15:43:08.569275Z",
     "shell.execute_reply": "2023-02-20T15:43:08.568264Z"
    },
    "papermill": {
     "duration": 0.218191,
     "end_time": "2023-02-20T15:43:08.571724",
     "exception": false,
     "start_time": "2023-02-20T15:43:08.353533",
     "status": "completed"
    },
    "tags": []
   },
   "outputs": [
    {
     "data": {
      "text/plain": [
       "Text(0, 0.5, 'Frequency')"
      ]
     },
     "execution_count": 8,
     "metadata": {},
     "output_type": "execute_result"
    },
    {
     "data": {
      "image/png": "[encoded data removed]",
      "text/plain": [
       "<Figure size 500x500 with 1 Axes>"
      ]
     },
     "metadata": {},
     "output_type": "display_data"
    }
   ],
   "source": [
    "# Count of label\n",
    "ax = df['Loan_Status'].value_counts().plot(kind='bar', figsize=(5,5))\n",
    "ax.set_xlabel(\"Loan\")\n",
    "ax.set_ylabel(\"Frequency\")"
   ]
  },
  {
   "cell_type": "code",
   "execution_count": 9,
   "id": "a732c488",
   "metadata": {
    "execution": {
     "iopub.execute_input": "2023-02-20T15:43:08.586666Z",
     "iopub.status.busy": "2023-02-20T15:43:08.586294Z",
     "iopub.status.idle": "2023-02-20T15:43:08.599610Z",
     "shell.execute_reply": "2023-02-20T15:43:08.598747Z"
    },
    "papermill": {
     "duration": 0.023214,
     "end_time": "2023-02-20T15:43:08.601617",
     "exception": false,
     "start_time": "2023-02-20T15:43:08.578403",
     "status": "completed"
    },
    "tags": []
   },
   "outputs": [
    {
     "data": {
      "text/plain": [
       "Loan_ID              480\n",
       "Gender                 2\n",
       "Married                2\n",
       "Dependents             4\n",
       "Education              2\n",
       "Self_Employed          2\n",
       "ApplicantIncome      405\n",
       "CoapplicantIncome    232\n",
       "LoanAmount           186\n",
       "Loan_Amount_Term       9\n",
       "Credit_History         2\n",
       "Property_Area          3\n",
       "Loan_Status            2\n",
       "dtype: int64"
      ]
     },
     "execution_count": 9,
     "metadata": {},
     "output_type": "execute_result"
    }
   ],
   "source": [
    "df.nunique()"
   ]
  },
  {
   "cell_type": "markdown",
   "id": "3c09c278",
   "metadata": {
    "papermill": {
     "duration": 0.006112,
     "end_time": "2023-02-20T15:43:08.614263",
     "exception": false,
     "start_time": "2023-02-20T15:43:08.608151",
     "status": "completed"
    },
    "tags": []
   },
   "source": [
    "# Preprocessing dataset"
   ]
  },
  {
   "cell_type": "code",
   "execution_count": 10,
   "id": "0b044538",
   "metadata": {
    "execution": {
     "iopub.execute_input": "2023-02-20T15:43:08.641567Z",
     "iopub.status.busy": "2023-02-20T15:43:08.640950Z",
     "iopub.status.idle": "2023-02-20T15:43:09.783637Z",
     "shell.execute_reply": "2023-02-20T15:43:09.782529Z"
    },
    "papermill": {
     "duration": 1.152499,
     "end_time": "2023-02-20T15:43:09.785831",
     "exception": false,
     "start_time": "2023-02-20T15:43:08.633332",
     "status": "completed"
    },
    "tags": []
   },
   "outputs": [
    {
     "data": {
      "text/html": [
       "<div>\n",
       "<style scoped>\n",
       "    .dataframe tbody tr th:only-of-type {\n",
       "        vertical-align: middle;\n",
       "    }\n",
       "\n",
       "    .dataframe tbody tr th {\n",
       "        vertical-align: top;\n",
       "    }\n",
       "\n",
       "    .dataframe thead th {\n",
       "        text-align: right;\n",
       "    }\n",
       "</style>\n",
       "<table border=\"1\" class=\"dataframe\">\n",
       "  <thead>\n",
       "    <tr style=\"text-align: right;\">\n",
       "      <th></th>\n",
       "      <th>Loan_ID</th>\n",
       "      <th>Gender</th>\n",
       "      <th>Married</th>\n",
       "      <th>Dependents</th>\n",
       "      <th>Education</th>\n",
       "      <th>Self_Employed</th>\n",
       "      <th>ApplicantIncome</th>\n",
       "      <th>CoapplicantIncome</th>\n",
       "      <th>LoanAmount</th>\n",
       "      <th>Loan_Amount_Term</th>\n",
       "      <th>Credit_History</th>\n",
       "      <th>Property_Area</th>\n",
       "      <th>Loan_Status</th>\n",
       "    </tr>\n",
       "  </thead>\n",
       "  <tbody>\n",
       "    <tr>\n",
       "      <th>1</th>\n",
       "      <td>LP001003</td>\n",
       "      <td>1</td>\n",
       "      <td>1</td>\n",
       "      <td>1</td>\n",
       "      <td>0</td>\n",
       "      <td>0</td>\n",
       "      <td>4583</td>\n",
       "      <td>1508.0</td>\n",
       "      <td>128.0</td>\n",
       "      <td>360.0</td>\n",
       "      <td>1.0</td>\n",
       "      <td>0</td>\n",
       "      <td>0</td>\n",
       "    </tr>\n",
       "    <tr>\n",
       "      <th>2</th>\n",
       "      <td>LP001005</td>\n",
       "      <td>1</td>\n",
       "      <td>1</td>\n",
       "      <td>0</td>\n",
       "      <td>0</td>\n",
       "      <td>1</td>\n",
       "      <td>3000</td>\n",
       "      <td>0.0</td>\n",
       "      <td>66.0</td>\n",
       "      <td>360.0</td>\n",
       "      <td>1.0</td>\n",
       "      <td>2</td>\n",
       "      <td>1</td>\n",
       "    </tr>\n",
       "    <tr>\n",
       "      <th>3</th>\n",
       "      <td>LP001006</td>\n",
       "      <td>1</td>\n",
       "      <td>1</td>\n",
       "      <td>0</td>\n",
       "      <td>1</td>\n",
       "      <td>0</td>\n",
       "      <td>2583</td>\n",
       "      <td>2358.0</td>\n",
       "      <td>120.0</td>\n",
       "      <td>360.0</td>\n",
       "      <td>1.0</td>\n",
       "      <td>2</td>\n",
       "      <td>1</td>\n",
       "    </tr>\n",
       "    <tr>\n",
       "      <th>4</th>\n",
       "      <td>LP001008</td>\n",
       "      <td>1</td>\n",
       "      <td>0</td>\n",
       "      <td>0</td>\n",
       "      <td>0</td>\n",
       "      <td>0</td>\n",
       "      <td>6000</td>\n",
       "      <td>0.0</td>\n",
       "      <td>141.0</td>\n",
       "      <td>360.0</td>\n",
       "      <td>1.0</td>\n",
       "      <td>2</td>\n",
       "      <td>1</td>\n",
       "    </tr>\n",
       "    <tr>\n",
       "      <th>5</th>\n",
       "      <td>LP001011</td>\n",
       "      <td>1</td>\n",
       "      <td>1</td>\n",
       "      <td>2</td>\n",
       "      <td>0</td>\n",
       "      <td>1</td>\n",
       "      <td>5417</td>\n",
       "      <td>4196.0</td>\n",
       "      <td>267.0</td>\n",
       "      <td>360.0</td>\n",
       "      <td>1.0</td>\n",
       "      <td>2</td>\n",
       "      <td>1</td>\n",
       "    </tr>\n",
       "  </tbody>\n",
       "</table>\n",
       "</div>"
      ],
      "text/plain": [
       "    Loan_ID  Gender  Married Dependents  Education  Self_Employed  \\\n",
       "1  LP001003       1        1          1          0              0   \n",
       "2  LP001005       1        1          0          0              1   \n",
       "3  LP001006       1        1          0          1              0   \n",
       "4  LP001008       1        0          0          0              0   \n",
       "5  LP001011       1        1          2          0              1   \n",
       "\n",
       "   ApplicantIncome  CoapplicantIncome  LoanAmount  Loan_Amount_Term  \\\n",
       "1             4583             1508.0       128.0             360.0   \n",
       "2             3000                0.0        66.0             360.0   \n",
       "3             2583             2358.0       120.0             360.0   \n",
       "4             6000                0.0       141.0             360.0   \n",
       "5             5417             4196.0       267.0             360.0   \n",
       "\n",
       "   Credit_History  Property_Area  Loan_Status  \n",
       "1             1.0              0            0  \n",
       "2             1.0              2            1  \n",
       "3             1.0              2            1  \n",
       "4             1.0              2            1  \n",
       "5             1.0              2            1  "
      ]
     },
     "execution_count": 10,
     "metadata": {},
     "output_type": "execute_result"
    }
   ],
   "source": [
    "#Label encode all categorical columns\n",
    "\n",
    "from sklearn.preprocessing import LabelEncoder\n",
    "\n",
    "le = LabelEncoder()\n",
    "cat_features = ['Gender', 'Married', 'Education', 'Self_Employed', 'Loan_Status', 'Property_Area']\n",
    "for col in df[cat_features]:\n",
    "    df[col]=le.fit_transform(df[col])\n",
    "\n",
    "df.head()"
   ]
  },
  {
   "cell_type": "code",
   "execution_count": 11,
   "id": "73954e04",
   "metadata": {
    "execution": {
     "iopub.execute_input": "2023-02-20T15:43:09.801588Z",
     "iopub.status.busy": "2023-02-20T15:43:09.801097Z",
     "iopub.status.idle": "2023-02-20T15:43:09.809126Z",
     "shell.execute_reply": "2023-02-20T15:43:09.807950Z"
    },
    "papermill": {
     "duration": 0.018528,
     "end_time": "2023-02-20T15:43:09.811328",
     "exception": false,
     "start_time": "2023-02-20T15:43:09.792800",
     "status": "completed"
    },
    "tags": []
   },
   "outputs": [
    {
     "data": {
      "text/plain": [
       "Loan_ID              LP002979\n",
       "Gender                      1\n",
       "Married                     1\n",
       "Dependents                 3+\n",
       "Education                   0\n",
       "Self_Employed               0\n",
       "ApplicantIncome          4106\n",
       "CoapplicantIncome         0.0\n",
       "LoanAmount               40.0\n",
       "Loan_Amount_Term        180.0\n",
       "Credit_History            1.0\n",
       "Property_Area               0\n",
       "Loan_Status                 1\n",
       "Name: 610, dtype: object"
      ]
     },
     "execution_count": 11,
     "metadata": {},
     "output_type": "execute_result"
    }
   ],
   "source": [
    "df.loc[610,:] # \"Dependents\" has an entry like \"3+\" so changing that to another integer, i.e; 3"
   ]
  },
  {
   "cell_type": "code",
   "execution_count": 12,
   "id": "e8c78d04",
   "metadata": {
    "execution": {
     "iopub.execute_input": "2023-02-20T15:43:09.830797Z",
     "iopub.status.busy": "2023-02-20T15:43:09.829250Z",
     "iopub.status.idle": "2023-02-20T15:43:09.838456Z",
     "shell.execute_reply": "2023-02-20T15:43:09.837146Z"
    },
    "papermill": {
     "duration": 0.021484,
     "end_time": "2023-02-20T15:43:09.841613",
     "exception": false,
     "start_time": "2023-02-20T15:43:09.820129",
     "status": "completed"
    },
    "tags": []
   },
   "outputs": [],
   "source": [
    "df['Dependents'] = df['Dependents'].replace('3+', 3).astype('int')"
   ]
  },
  {
   "cell_type": "code",
   "execution_count": 13,
   "id": "304ba644",
   "metadata": {
    "execution": {
     "iopub.execute_input": "2023-02-20T15:43:09.861778Z",
     "iopub.status.busy": "2023-02-20T15:43:09.860332Z",
     "iopub.status.idle": "2023-02-20T15:43:09.873639Z",
     "shell.execute_reply": "2023-02-20T15:43:09.872581Z"
    },
    "papermill": {
     "duration": 0.025621,
     "end_time": "2023-02-20T15:43:09.875956",
     "exception": false,
     "start_time": "2023-02-20T15:43:09.850335",
     "status": "completed"
    },
    "tags": []
   },
   "outputs": [],
   "source": [
    "# Normalize the table to values between 0 and 1 so that columns with higher values (ApplicantIncome, CoapplicantIncome, \n",
    "# LoanAmount, Loan_Amount_Term) don't affect model performance\n",
    "\n",
    "from sklearn.preprocessing import MinMaxScaler\n",
    "\n",
    "df_temp=df.drop(\"Loan_ID\", axis=1)\n",
    "scaler = MinMaxScaler()\n",
    "names = df_temp.columns\n",
    "#names.remove(\"Loan_ID\")\n",
    "d = scaler.fit_transform(df_temp)\n",
    "scaled_df = pd.DataFrame(d, columns = names)"
   ]
  },
  {
   "cell_type": "code",
   "execution_count": 14,
   "id": "07cbe74e",
   "metadata": {
    "execution": {
     "iopub.execute_input": "2023-02-20T15:43:09.891651Z",
     "iopub.status.busy": "2023-02-20T15:43:09.891106Z",
     "iopub.status.idle": "2023-02-20T15:43:09.908601Z",
     "shell.execute_reply": "2023-02-20T15:43:09.907518Z"
    },
    "papermill": {
     "duration": 0.027943,
     "end_time": "2023-02-20T15:43:09.910962",
     "exception": false,
     "start_time": "2023-02-20T15:43:09.883019",
     "status": "completed"
    },
    "tags": []
   },
   "outputs": [
    {
     "data": {
      "text/html": [
       "<div>\n",
       "<style scoped>\n",
       "    .dataframe tbody tr th:only-of-type {\n",
       "        vertical-align: middle;\n",
       "    }\n",
       "\n",
       "    .dataframe tbody tr th {\n",
       "        vertical-align: top;\n",
       "    }\n",
       "\n",
       "    .dataframe thead th {\n",
       "        text-align: right;\n",
       "    }\n",
       "</style>\n",
       "<table border=\"1\" class=\"dataframe\">\n",
       "  <thead>\n",
       "    <tr style=\"text-align: right;\">\n",
       "      <th></th>\n",
       "      <th>Gender</th>\n",
       "      <th>Married</th>\n",
       "      <th>Dependents</th>\n",
       "      <th>Education</th>\n",
       "      <th>Self_Employed</th>\n",
       "      <th>ApplicantIncome</th>\n",
       "      <th>CoapplicantIncome</th>\n",
       "      <th>LoanAmount</th>\n",
       "      <th>Loan_Amount_Term</th>\n",
       "      <th>Credit_History</th>\n",
       "      <th>Property_Area</th>\n",
       "      <th>Loan_Status</th>\n",
       "    </tr>\n",
       "  </thead>\n",
       "  <tbody>\n",
       "    <tr>\n",
       "      <th>0</th>\n",
       "      <td>1.0</td>\n",
       "      <td>1.0</td>\n",
       "      <td>0.333333</td>\n",
       "      <td>0.0</td>\n",
       "      <td>0.0</td>\n",
       "      <td>0.054830</td>\n",
       "      <td>0.044567</td>\n",
       "      <td>0.201354</td>\n",
       "      <td>0.72973</td>\n",
       "      <td>1.0</td>\n",
       "      <td>0.0</td>\n",
       "      <td>0.0</td>\n",
       "    </tr>\n",
       "    <tr>\n",
       "      <th>1</th>\n",
       "      <td>1.0</td>\n",
       "      <td>1.0</td>\n",
       "      <td>0.000000</td>\n",
       "      <td>0.0</td>\n",
       "      <td>1.0</td>\n",
       "      <td>0.035250</td>\n",
       "      <td>0.000000</td>\n",
       "      <td>0.096447</td>\n",
       "      <td>0.72973</td>\n",
       "      <td>1.0</td>\n",
       "      <td>1.0</td>\n",
       "      <td>1.0</td>\n",
       "    </tr>\n",
       "    <tr>\n",
       "      <th>2</th>\n",
       "      <td>1.0</td>\n",
       "      <td>1.0</td>\n",
       "      <td>0.000000</td>\n",
       "      <td>1.0</td>\n",
       "      <td>0.0</td>\n",
       "      <td>0.030093</td>\n",
       "      <td>0.069687</td>\n",
       "      <td>0.187817</td>\n",
       "      <td>0.72973</td>\n",
       "      <td>1.0</td>\n",
       "      <td>1.0</td>\n",
       "      <td>1.0</td>\n",
       "    </tr>\n",
       "    <tr>\n",
       "      <th>3</th>\n",
       "      <td>1.0</td>\n",
       "      <td>0.0</td>\n",
       "      <td>0.000000</td>\n",
       "      <td>0.0</td>\n",
       "      <td>0.0</td>\n",
       "      <td>0.072356</td>\n",
       "      <td>0.000000</td>\n",
       "      <td>0.223350</td>\n",
       "      <td>0.72973</td>\n",
       "      <td>1.0</td>\n",
       "      <td>1.0</td>\n",
       "      <td>1.0</td>\n",
       "    </tr>\n",
       "    <tr>\n",
       "      <th>4</th>\n",
       "      <td>1.0</td>\n",
       "      <td>1.0</td>\n",
       "      <td>0.666667</td>\n",
       "      <td>0.0</td>\n",
       "      <td>1.0</td>\n",
       "      <td>0.065145</td>\n",
       "      <td>0.124006</td>\n",
       "      <td>0.436548</td>\n",
       "      <td>0.72973</td>\n",
       "      <td>1.0</td>\n",
       "      <td>1.0</td>\n",
       "      <td>1.0</td>\n",
       "    </tr>\n",
       "  </tbody>\n",
       "</table>\n",
       "</div>"
      ],
      "text/plain": [
       "   Gender  Married  Dependents  Education  Self_Employed  ApplicantIncome  \\\n",
       "0     1.0      1.0    0.333333        0.0            0.0         0.054830   \n",
       "1     1.0      1.0    0.000000        0.0            1.0         0.035250   \n",
       "2     1.0      1.0    0.000000        1.0            0.0         0.030093   \n",
       "3     1.0      0.0    0.000000        0.0            0.0         0.072356   \n",
       "4     1.0      1.0    0.666667        0.0            1.0         0.065145   \n",
       "\n",
       "   CoapplicantIncome  LoanAmount  Loan_Amount_Term  Credit_History  \\\n",
       "0           0.044567    0.201354           0.72973             1.0   \n",
       "1           0.000000    0.096447           0.72973             1.0   \n",
       "2           0.069687    0.187817           0.72973             1.0   \n",
       "3           0.000000    0.223350           0.72973             1.0   \n",
       "4           0.124006    0.436548           0.72973             1.0   \n",
       "\n",
       "   Property_Area  Loan_Status  \n",
       "0            0.0          0.0  \n",
       "1            1.0          1.0  \n",
       "2            1.0          1.0  \n",
       "3            1.0          1.0  \n",
       "4            1.0          1.0  "
      ]
     },
     "execution_count": 14,
     "metadata": {},
     "output_type": "execute_result"
    }
   ],
   "source": [
    "scaled_df.head()"
   ]
  },
  {
   "cell_type": "code",
   "execution_count": 15,
   "id": "81af7d87",
   "metadata": {
    "execution": {
     "iopub.execute_input": "2023-02-20T15:43:09.940979Z",
     "iopub.status.busy": "2023-02-20T15:43:09.940415Z",
     "iopub.status.idle": "2023-02-20T15:43:09.945766Z",
     "shell.execute_reply": "2023-02-20T15:43:09.944814Z"
    },
    "papermill": {
     "duration": 0.016037,
     "end_time": "2023-02-20T15:43:09.948028",
     "exception": false,
     "start_time": "2023-02-20T15:43:09.931991",
     "status": "completed"
    },
    "tags": []
   },
   "outputs": [],
   "source": [
    "# Features and labels\n",
    "X=scaled_df.drop([\"Loan_Status\"], axis=1) #features\n",
    "y=scaled_df[\"Loan_Status\"]\n"
   ]
  },
  {
   "cell_type": "code",
   "execution_count": 16,
   "id": "45bcd3c6",
   "metadata": {
    "execution": {
     "iopub.execute_input": "2023-02-20T15:43:09.965247Z",
     "iopub.status.busy": "2023-02-20T15:43:09.964805Z",
     "iopub.status.idle": "2023-02-20T15:43:10.237336Z",
     "shell.execute_reply": "2023-02-20T15:43:10.235494Z"
    },
    "papermill": {
     "duration": 0.284548,
     "end_time": "2023-02-20T15:43:10.239936",
     "exception": false,
     "start_time": "2023-02-20T15:43:09.955388",
     "status": "completed"
    },
    "tags": []
   },
   "outputs": [],
   "source": [
    "# We are using Random forest model\n",
    "from sklearn.ensemble import RandomForestClassifier\n",
    "\n",
    "clf = RandomForestClassifier(n_estimators=50, criterion='gini', max_depth=5)"
   ]
  },
  {
   "cell_type": "markdown",
   "id": "58758261",
   "metadata": {
    "papermill": {
     "duration": 0.007268,
     "end_time": "2023-02-20T15:43:10.254405",
     "exception": false,
     "start_time": "2023-02-20T15:43:10.247137",
     "status": "completed"
    },
    "tags": []
   },
   "source": [
    "# Simple approach to K-fold cross validation"
   ]
  },
  {
   "cell_type": "code",
   "execution_count": 17,
   "id": "05705967",
   "metadata": {
    "execution": {
     "iopub.execute_input": "2023-02-20T15:43:10.270999Z",
     "iopub.status.busy": "2023-02-20T15:43:10.270420Z",
     "iopub.status.idle": "2023-02-20T15:43:10.985560Z",
     "shell.execute_reply": "2023-02-20T15:43:10.983963Z"
    },
    "papermill": {
     "duration": 0.726393,
     "end_time": "2023-02-20T15:43:10.988134",
     "exception": false,
     "start_time": "2023-02-20T15:43:10.261741",
     "status": "completed"
    },
    "tags": []
   },
   "outputs": [
    {
     "name": "stdout",
     "output_type": "stream",
     "text": [
      "Accuracy: 85.417, Standard Deviation: 0.030\n"
     ]
    }
   ],
   "source": [
    "from sklearn.model_selection import StratifiedKFold\n",
    "from sklearn.model_selection import cross_val_score\n",
    "\n",
    "k=10\n",
    "\n",
    "cv = StratifiedKFold(n_splits=k, random_state=1, shuffle=True)\n",
    "\n",
    "scores = cross_val_score(clf, X, y, scoring='accuracy', cv=cv)\n",
    "\n",
    "print('Accuracy: %.3f, Standard Deviation: %.3f' % (np.max(scores)*100, np.std(scores)))"
   ]
  },
  {
   "cell_type": "code",
   "execution_count": 18,
   "id": "80e6283d",
   "metadata": {
    "execution": {
     "iopub.execute_input": "2023-02-20T15:43:11.004080Z",
     "iopub.status.busy": "2023-02-20T15:43:11.003730Z",
     "iopub.status.idle": "2023-02-20T15:43:11.010796Z",
     "shell.execute_reply": "2023-02-20T15:43:11.009703Z"
    },
    "papermill": {
     "duration": 0.017117,
     "end_time": "2023-02-20T15:43:11.012603",
     "exception": false,
     "start_time": "2023-02-20T15:43:10.995486",
     "status": "completed"
    },
    "tags": []
   },
   "outputs": [
    {
     "data": {
      "text/plain": [
       "array([0.77083333, 0.75      , 0.85416667, 0.8125    , 0.77083333,\n",
       "       0.79166667, 0.8125    , 0.8125    , 0.8125    , 0.83333333])"
      ]
     },
     "execution_count": 18,
     "metadata": {},
     "output_type": "execute_result"
    }
   ],
   "source": [
    "scores"
   ]
  },
  {
   "cell_type": "code",
   "execution_count": 19,
   "id": "08d68174",
   "metadata": {
    "execution": {
     "iopub.execute_input": "2023-02-20T15:43:11.028001Z",
     "iopub.status.busy": "2023-02-20T15:43:11.027626Z",
     "iopub.status.idle": "2023-02-20T15:43:11.035456Z",
     "shell.execute_reply": "2023-02-20T15:43:11.033247Z"
    },
    "papermill": {
     "duration": 0.018448,
     "end_time": "2023-02-20T15:43:11.038018",
     "exception": false,
     "start_time": "2023-02-20T15:43:11.019570",
     "status": "completed"
    },
    "tags": []
   },
   "outputs": [
    {
     "name": "stdout",
     "output_type": "stream",
     "text": [
      "Fold Number: 0, Accuracy: 0.771\n",
      "Fold Number: 1, Accuracy: 0.750\n",
      "Fold Number: 2, Accuracy: 0.854\n",
      "Fold Number: 3, Accuracy: 0.812\n",
      "Fold Number: 4, Accuracy: 0.771\n",
      "Fold Number: 5, Accuracy: 0.792\n",
      "Fold Number: 6, Accuracy: 0.812\n",
      "Fold Number: 7, Accuracy: 0.812\n",
      "Fold Number: 8, Accuracy: 0.812\n",
      "Fold Number: 9, Accuracy: 0.833\n"
     ]
    }
   ],
   "source": [
    "# Steps of the cross validation\n",
    "\n",
    "for i in range (0,k):\n",
    "    print(\"Fold Number: %d, Accuracy: %.3f\" %(i, scores[i]))\n",
    "    "
   ]
  }
 ],
 "metadata": {
  "kernelspec": {
   "display_name": "Python 3",
   "language": "python",
   "name": "python3"
  },
  "language_info": {
   "codemirror_mode": {
    "name": "ipython",
    "version": 3
   },
   "file_extension": ".py",
   "mimetype": "text/x-python",
   "name": "python",
   "nbconvert_exporter": "python",
   "pygments_lexer": "ipython3",
   "version": "3.7.12"
  },
  "papermill": {
   "default_parameters": {},
   "duration": 11.523153,
   "end_time": "2023-02-20T15:43:12.068361",
   "environment_variables": {},
   "exception": null,
   "input_path": "__notebook__.ipynb",
   "output_path": "__notebook__.ipynb",
   "parameters": {},
   "start_time": "2023-02-20T15:43:00.545208",
   "version": "2.3.4"
  }
 },
 "nbformat": 4,
 "nbformat_minor": 5
}
